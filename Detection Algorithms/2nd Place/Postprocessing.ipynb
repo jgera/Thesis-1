{
 "metadata": {
  "name": "",
  "signature": "sha256:8d8e711710fc57b94c2d6d87654838e6538ae6a732bea7e5d873ad03b0c2a38e"
 },
 "nbformat": 3,
 "nbformat_minor": 0,
 "worksheets": [
  {
   "cells": [
    {
     "cell_type": "code",
     "collapsed": false,
     "input": [
      "import joblib, os, sys, re, pickle"
     ],
     "language": "python",
     "metadata": {},
     "outputs": []
    },
    {
     "cell_type": "code",
     "collapsed": false,
     "input": [
      "def warp(x):\n",
      "    \"\"\"\n",
      "        Logarithmically rescale values with p < 0.1 and (1-p) < 0.1 to avoid loss of precision\n",
      "    \"\"\"\n",
      "    x = copy(x)\n",
      "    low = x<0.1\n",
      "    high = x>0.9\n",
      "\n",
      "    xl = x[low]\n",
      "    pmin = log10(xl[xl!=0].min())-1\n",
      "    lx = log10(xl)\n",
      "    lx[isinf(lx)] = pmin\n",
      "    lx = (lx+1)*(3./(lx.max()-lx.min()))-1\n",
      "    xl = 10**lx\n",
      "    x[low] = xl\n",
      "    \n",
      "    xh = x[high]\n",
      "    pmin = log10(1-xh[xh!=1].max())-1\n",
      "    lx = log10(1-xh)\n",
      "    lx[isinf(lx)] = pmin\n",
      "    lx = (lx+1)*(1./(lx.max()-lx.min()))-1\n",
      "    xh = 1-10**lx\n",
      "    x[high] = xh\n",
      "\n",
      "    return x"
     ],
     "language": "python",
     "metadata": {},
     "outputs": []
    },
    {
     "cell_type": "code",
     "collapsed": false,
     "input": [
      "labels = ['patient_7']\n",
      "\n",
      "of = open('./submission.csv','w')\n",
      "of.write('clip,seizure,early\\n')\n",
      "\n",
      "lines = 0\n",
      "for label in labels:\n",
      "    fns = [fn for fn in os.listdir('./output/') if label in fn]\n",
      "    print \"Averaging %d predictions for subject %s\" % (len(fns), label)\n",
      "    if len(fns) == 0:\n",
      "        print \"Error: missing predictions for subject %s\" % label\n",
      "        continue\n",
      "        \n",
      "    preds = vstack([warp(pickle.load(open('./output/'+fn))['pred']) for fn in fns])\n",
      "    d = pickle.load(open('./output/'+fn))\n",
      "    fns = array(d['fns'])\n",
      "    predfns = fns[d['y']==-1]\n",
      "    p = preds.mean(0)\n",
      "    a = dict(zip(fns,p))\n",
      "\n",
      "    for fn in predfns:\n",
      "        of.write('%s,%f,%f\\n'%(fn,a[fn],a[fn]))\n",
      "        lines += 1\n",
      "of.close()\n",
      "\n",
      "if lines != 32915:\n",
      "    print \"Warning: incorrect number of predictions in submission\""
     ],
     "language": "python",
     "metadata": {},
     "outputs": []
    }
   ],
   "metadata": {}
  }
 ]
}